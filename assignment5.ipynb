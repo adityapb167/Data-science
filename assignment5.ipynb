{
 "cells": [
  {
   "cell_type": "code",
   "execution_count": 1,
   "id": "0db2c2aa",
   "metadata": {},
   "outputs": [
    {
     "name": "stdout",
     "output_type": "stream",
     "text": [
      "153 is an Armstrong number.\n"
     ]
    }
   ],
   "source": [
    "def check(n):\n",
    "    a = n\n",
    "    result = 0\n",
    "    while n > 0:\n",
    "        digit = n % 10\n",
    "        result += digit ** len(str(a))\n",
    "        n //= 10\n",
    "    if result == a:\n",
    "        print(a, \"is an Armstrong number.\")\n",
    "    else:\n",
    "        print(a, \"is not an Armstrong number.\")\n",
    "n=int(input('enter a number'))\n",
    "check(n)"
   ]
  },
  {
   "cell_type": "code",
   "execution_count": 5,
   "id": "ac510564",
   "metadata": {},
   "outputs": [
    {
     "name": "stdout",
     "output_type": "stream",
     "text": [
      "'e' appears 2 times in 'elephant'\n"
     ]
    }
   ],
   "source": [
    "def count_char(text, char):\n",
    "    return text.count(char)\n",
    "string = \"elephant\"\n",
    "character = \"e\"\n",
    "print(f\"'{character}' appears {count_char(string, character)} times in '{string}'\")"
   ]
  },
  {
   "cell_type": "code",
   "execution_count": 6,
   "id": "8853f309",
   "metadata": {},
   "outputs": [
    {
     "name": "stdout",
     "output_type": "stream",
     "text": [
      "5 7 11 13 17 19 23 29 31 37 41 43 47 53 \n"
     ]
    }
   ],
   "source": [
    "def is_prime(num):\n",
    "    if num <= 1:\n",
    "        return False\n",
    "    for i in range(2, num):\n",
    "        if num % i == 0:\n",
    "            return False\n",
    "    return True\n",
    "\n",
    "def find_primes_between(start, end):\n",
    "    for number in range(start, end + 1):\n",
    "        if is_prime(number):\n",
    "            print(number, end=' ')\n",
    "    print()\n",
    "\n",
    "start_num = int(input(\"Enter the start number: \"))\n",
    "end_num = int(input(\"Enter the end number: \"))\n",
    "\n",
    "find_primes_between(start_num,end_num)"
   ]
  },
  {
   "cell_type": "code",
   "execution_count": 7,
   "id": "b4a55499",
   "metadata": {},
   "outputs": [
    {
     "name": "stdout",
     "output_type": "stream",
     "text": [
      "GCD of 7 and 3 is 1\n"
     ]
    }
   ],
   "source": [
    "def gcd(a, b):\n",
    "    while b != 0:\n",
    "        a, b = b, a % b\n",
    "    return a\n",
    "\n",
    "num1 = int(input(\"Enter first number: \"))\n",
    "num2 = int(input(\"Enter second number: \"))\n",
    "\n",
    "result = gcd(num1, num2)\n",
    "print(\"GCD of\", num1, \"and\", num2,\"is\",result)"
   ]
  },
  {
   "cell_type": "code",
   "execution_count": 8,
   "id": "b18c2a0d",
   "metadata": {},
   "outputs": [
    {
     "name": "stdout",
     "output_type": "stream",
     "text": [
      "LCM of 7 and 3 is 21\n"
     ]
    }
   ],
   "source": [
    "def lcm(a, b):\n",
    "    multiple = max(a, b)\n",
    "    step = multiple\n",
    "    while multiple % a != 0 or multiple % b != 0:\n",
    "        multiple += step\n",
    "    return multiple\n",
    "\n",
    "num1 = int(input(\"Enter first number: \"))\n",
    "num2 = int(input(\"Enter second number: \"))\n",
    "\n",
    "result = lcm(num1, num2)\n",
    "print(f\"LCM of {num1} and {num2} is {result}\")"
   ]
  },
  {
   "cell_type": "code",
   "execution_count": 17,
   "id": "6f02eaf7",
   "metadata": {},
   "outputs": [
    {
     "name": "stdout",
     "output_type": "stream",
     "text": [
      "Binary representation: 110010\n"
     ]
    }
   ],
   "source": [
    "def to_binary(n):\n",
    "    if n == 0:\n",
    "        return \"0\"\n",
    "    binary = \"\"\n",
    "    while n > 0:\n",
    "        binary = str(n % 2) + binary\n",
    "        n = n // 2\n",
    "    return binary\n",
    "\n",
    "num = int(input(\"Enter a number: \"))\n",
    "print(\"Binary representation:\",to_binary(num)) "
   ]
  },
  {
   "cell_type": "code",
   "execution_count": 18,
   "id": "25bbdf56",
   "metadata": {},
   "outputs": [
    {
     "name": "stdout",
     "output_type": "stream",
     "text": [
      "    *\n",
      "   ***\n",
      "  *****\n",
      " *******\n",
      "*********\n"
     ]
    }
   ],
   "source": [
    "def print_pyramid(rows):\n",
    "    for i in range(1, rows + 1):\n",
    "        print(' ' * (rows - i), end='')\n",
    "        print('*' * (2 * i - 1))\n",
    "\n",
    "n = int(input(\"Enter number of rows: \"))\n",
    "print_pyramid(n)"
   ]
  },
  {
   "cell_type": "code",
   "execution_count": 21,
   "id": "77adabf0",
   "metadata": {},
   "outputs": [
    {
     "name": "stdout",
     "output_type": "stream",
     "text": [
      "a\n",
      "an\n",
      "anu\n",
      "n\n",
      "nu\n",
      "u\n"
     ]
    }
   ],
   "source": [
    "def all_substrings(s):\n",
    "    substrings = []\n",
    "    length = len(s)\n",
    "    for start in range(length):\n",
    "        for end in range(start + 1, length + 1):\n",
    "            substrings.append(s[start:end])\n",
    "    return substrings\n",
    "\n",
    "text = input(\"Enter a string: \")\n",
    "subs = all_substrings(text)\n",
    "\n",
    "for sub in subs:\n",
    "    print(sub)"
   ]
  },
  {
   "cell_type": "code",
   "execution_count": 24,
   "id": "64817063",
   "metadata": {},
   "outputs": [
    {
     "name": "stdout",
     "output_type": "stream",
     "text": [
      "Second largest number is: 8\n"
     ]
    }
   ],
   "source": [
    "def second_largest(numbers):\n",
    "    numbers = list(set(numbers))  \n",
    "    numbers.sort()\n",
    "    if len(numbers) < 2:\n",
    "        return None\n",
    "    return numbers[-2]\n",
    "\n",
    "nums = [9,5,4,3,6,8]\n",
    "result = second_largest(nums)\n",
    "if result is None:\n",
    "    print(\"No second largest number found.\")\n",
    "else:\n",
    "    print(\"Second largest number is:\",result)"
   ]
  },
  {
   "cell_type": "code",
   "execution_count": null,
   "id": "ecd955fa",
   "metadata": {},
   "outputs": [],
   "source": []
  }
 ],
 "metadata": {
  "kernelspec": {
   "display_name": "Python 3",
   "language": "python",
   "name": "python3"
  },
  "language_info": {
   "codemirror_mode": {
    "name": "ipython",
    "version": 3
   },
   "file_extension": ".py",
   "mimetype": "text/x-python",
   "name": "python",
   "nbconvert_exporter": "python",
   "pygments_lexer": "ipython3",
   "version": "3.11.9"
  }
 },
 "nbformat": 4,
 "nbformat_minor": 5
}
