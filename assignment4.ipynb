{
 "cells": [
  {
   "cell_type": "code",
   "execution_count": 7,
   "id": "3a2e326f",
   "metadata": {},
   "outputs": [
    {
     "name": "stdout",
     "output_type": "stream",
     "text": [
      "54 43 2 1 5 "
     ]
    }
   ],
   "source": [
    "arr = [54, 43, 2, 1, 5]\n",
    "\n",
    "for i in arr:\n",
    "    print(i, end=' ')"
   ]
  },
  {
   "cell_type": "code",
   "execution_count": 8,
   "id": "8bf64f66",
   "metadata": {},
   "outputs": [
    {
     "name": "stdout",
     "output_type": "stream",
     "text": [
      "105\n"
     ]
    }
   ],
   "source": [
    "arr = [54, 43, 2, 1, 5]\n",
    "total = 0\n",
    "\n",
    "for i in arr:\n",
    "    total += i\n",
    "\n",
    "print(total)"
   ]
  },
  {
   "cell_type": "code",
   "execution_count": 12,
   "id": "2d78620d",
   "metadata": {},
   "outputs": [
    {
     "name": "stdout",
     "output_type": "stream",
     "text": [
      "1 2 3\n"
     ]
    }
   ],
   "source": [
    "a=1\n",
    "b=2\n",
    "c=3\n",
    "arr=[]\n",
    "arr.append(a)\n",
    "arr.append(b)\n",
    "arr.append(c)\n",
    "print(*arr)"
   ]
  },
  {
   "cell_type": "code",
   "execution_count": 24,
   "id": "0c07f74a",
   "metadata": {},
   "outputs": [],
   "source": [
    "student={'name':'Arun','age':20,'marks':{'maths':30,'science':25}}"
   ]
  },
  {
   "cell_type": "code",
   "execution_count": 27,
   "id": "eab9d13d",
   "metadata": {},
   "outputs": [
    {
     "name": "stdout",
     "output_type": "stream",
     "text": [
      "Arun\n",
      "20\n"
     ]
    }
   ],
   "source": [
    "print(student['name'])\n",
    "print(student['age'])"
   ]
  },
  {
   "cell_type": "code",
   "execution_count": 1,
   "id": "654caefe",
   "metadata": {},
   "outputs": [
    {
     "name": "stdout",
     "output_type": "stream",
     "text": [
      "17.5\n"
     ]
    }
   ],
   "source": [
    "l1=[-4,7,5,-19,42,16]\n",
    "a=0\n",
    "s=0\n",
    "for i in l1:\n",
    "    if i>0:\n",
    "        s+=i\n",
    "        a+=1\n",
    "    if a>0:\n",
    "\n",
    "        r=s/a\n",
    "print(r)"
   ]
  },
  {
   "cell_type": "code",
   "execution_count": 3,
   "id": "054fdfc7",
   "metadata": {},
   "outputs": [
    {
     "name": "stdout",
     "output_type": "stream",
     "text": [
      "perfect\n"
     ]
    }
   ],
   "source": [
    "n=int(input('enter a number'))\n",
    "s=0\n",
    "for i in range(1,n):\n",
    "    if n%i==0:\n",
    "        s+=i\n",
    "if s==n:\n",
    "    print('perfect')\n",
    "else:\n",
    "    print('not perfect')"
   ]
  },
  {
   "cell_type": "code",
   "execution_count": null,
   "id": "53adaf47",
   "metadata": {},
   "outputs": [],
   "source": []
  }
 ],
 "metadata": {
  "kernelspec": {
   "display_name": "Python 3",
   "language": "python",
   "name": "python3"
  },
  "language_info": {
   "codemirror_mode": {
    "name": "ipython",
    "version": 3
   },
   "file_extension": ".py",
   "mimetype": "text/x-python",
   "name": "python",
   "nbconvert_exporter": "python",
   "pygments_lexer": "ipython3",
   "version": "3.11.9"
  }
 },
 "nbformat": 4,
 "nbformat_minor": 5
}
