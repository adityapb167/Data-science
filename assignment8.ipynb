{
 "cells": [
  {
   "cell_type": "code",
   "execution_count": 1,
   "id": "0223d1ea",
   "metadata": {},
   "outputs": [
    {
     "name": "stdout",
     "output_type": "stream",
     "text": [
      "(4,) 1\n",
      "(2, 3) 2\n",
      "(3, 2, 3) 3\n"
     ]
    }
   ],
   "source": [
    "import numpy as np\n",
    "a=np.array([1,2,3,4])\n",
    "b=np.array([[1,2,3],[4,5,6]])\n",
    "c=np.array([[[1,2,3],[4,5,6]],[[3,2,1],[6,5,4]],[[7,8,9],[9,8,7]]])\n",
    "print(a.shape,a.ndim)\n",
    "print(b.shape,b.ndim)\n",
    "print(c.shape,c.ndim)"
   ]
  },
  {
   "cell_type": "code",
   "execution_count": 2,
   "id": "cdb30690",
   "metadata": {},
   "outputs": [
    {
     "data": {
      "text/plain": [
       "array([10, 15, 20, 25, 30, 35, 40, 45, 50])"
      ]
     },
     "execution_count": 2,
     "metadata": {},
     "output_type": "execute_result"
    }
   ],
   "source": [
    "np.arange(10,51,5)"
   ]
  },
  {
   "cell_type": "code",
   "execution_count": 3,
   "id": "78f5e6ba",
   "metadata": {},
   "outputs": [
    {
     "data": {
      "text/plain": [
       "array([[12, 17,  7],\n",
       "       [ 6, 12,  4],\n",
       "       [18, 10, 18]])"
      ]
     },
     "execution_count": 3,
     "metadata": {},
     "output_type": "execute_result"
    }
   ],
   "source": [
    "rm=np.random.choice(np.arange(1, 21), size=(3, 3))\n",
    "rm"
   ]
  },
  {
   "cell_type": "code",
   "execution_count": 4,
   "id": "e9bada5f",
   "metadata": {},
   "outputs": [
    {
     "name": "stdout",
     "output_type": "stream",
     "text": [
      "[ 6 12  4]\n"
     ]
    }
   ],
   "source": [
    "print(rm[1,:])"
   ]
  },
  {
   "cell_type": "code",
   "execution_count": 5,
   "id": "98dfbe10",
   "metadata": {},
   "outputs": [
    {
     "name": "stdout",
     "output_type": "stream",
     "text": [
      "[17 12 10]\n"
     ]
    }
   ],
   "source": [
    "print(rm[:,1])\n"
   ]
  },
  {
   "cell_type": "code",
   "execution_count": 6,
   "id": "93a49026",
   "metadata": {},
   "outputs": [
    {
     "data": {
      "text/plain": [
       "array([[17,  7],\n",
       "       [12,  4]])"
      ]
     },
     "execution_count": 6,
     "metadata": {},
     "output_type": "execute_result"
    }
   ],
   "source": [
    "subarray = rm[0:2, 1:4]\n",
    "subarray\n"
   ]
  },
  {
   "cell_type": "code",
   "execution_count": 7,
   "id": "8a5b3548",
   "metadata": {},
   "outputs": [
    {
     "data": {
      "text/plain": [
       "array([[-1, 17,  7],\n",
       "       [-1, -1, -1],\n",
       "       [-1, -1, -1]])"
      ]
     },
     "execution_count": 7,
     "metadata": {},
     "output_type": "execute_result"
    }
   ],
   "source": [
    "rm[rm%2==0]=-1\n",
    "rm"
   ]
  },
  {
   "cell_type": "code",
   "execution_count": 8,
   "id": "5ac7d883",
   "metadata": {},
   "outputs": [
    {
     "name": "stdout",
     "output_type": "stream",
     "text": [
      "[5 7 9]\n",
      "[-3 -3 -3]\n",
      "[ 4 10 18]\n",
      "[0.25 0.4  0.5 ]\n"
     ]
    }
   ],
   "source": [
    "a = np.array([1, 2, 3])\n",
    "b = np.array([4, 5, 6])\n",
    "print(a+b)\n",
    "print(a-b)\n",
    "print(a*b)\n",
    "print(a/b)"
   ]
  },
  {
   "cell_type": "code",
   "execution_count": 9,
   "id": "96a5ba12",
   "metadata": {},
   "outputs": [
    {
     "data": {
      "text/plain": [
       "array([[ 1,  2,  3,  4],\n",
       "       [ 5,  6,  7,  8],\n",
       "       [ 9, 10, 11, 12]])"
      ]
     },
     "execution_count": 9,
     "metadata": {},
     "output_type": "execute_result"
    }
   ],
   "source": [
    "m=np.array([1,2,3,4,5,6,7,8,9,10,11,12])\n",
    "m.reshape(3,4)"
   ]
  },
  {
   "cell_type": "code",
   "execution_count": null,
   "id": "47ca907c",
   "metadata": {},
   "outputs": [],
   "source": []
  }
 ],
 "metadata": {
  "kernelspec": {
   "display_name": "Python 3",
   "language": "python",
   "name": "python3"
  },
  "language_info": {
   "codemirror_mode": {
    "name": "ipython",
    "version": 3
   },
   "file_extension": ".py",
   "mimetype": "text/x-python",
   "name": "python",
   "nbconvert_exporter": "python",
   "pygments_lexer": "ipython3",
   "version": "3.11.9"
  }
 },
 "nbformat": 4,
 "nbformat_minor": 5
}
