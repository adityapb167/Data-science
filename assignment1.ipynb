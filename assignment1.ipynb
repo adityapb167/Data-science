{
 "cells": [
  {
   "cell_type": "code",
   "execution_count": 2,
   "id": "04d0b191",
   "metadata": {},
   "outputs": [
    {
     "name": "stdout",
     "output_type": "stream",
     "text": [
      "It is a square\n"
     ]
    }
   ],
   "source": [
    "length=int(input(\"Enter the lenght :\"))\n",
    "width=int(input(\"Enter the width :\"))\n",
    "if length==width:\n",
    "    print(\"It is a square\")\n",
    "else:\n",
    "    print(\"It is a rectangle\")"
   ]
  },
  {
   "cell_type": "code",
   "execution_count": 2,
   "id": "87dbcfb3",
   "metadata": {},
   "outputs": [
    {
     "name": "stdout",
     "output_type": "stream",
     "text": [
      "500.0\n"
     ]
    }
   ],
   "source": [
    "a=int(input(\"Enter your salary\"))\n",
    "b=int(input(\"Enter your years of service\"))\n",
    "if b>5:\n",
    "    c=a*0.05\n",
    "else:\n",
    "    c=0\n",
    "print(c)"
   ]
  },
  {
   "cell_type": "code",
   "execution_count": 5,
   "id": "0430f97d",
   "metadata": {},
   "outputs": [
    {
     "name": "stdout",
     "output_type": "stream",
     "text": [
      "Its an even number\n"
     ]
    }
   ],
   "source": [
    "a=int(input(\"enter the number:\"))\n",
    "if a%2==0:\n",
    "    print(\"Its an even number\")\n",
    "else:\n",
    "    print(\"Its an odd number\")"
   ]
  },
  {
   "cell_type": "code",
   "execution_count": 6,
   "id": "32a1a04d",
   "metadata": {},
   "outputs": [
    {
     "name": "stdout",
     "output_type": "stream",
     "text": [
      "the first number is greater\n"
     ]
    }
   ],
   "source": [
    "a=int(input(\"Enter the first number\"))\n",
    "b=int(input(\"Enter the second number\"))\n",
    "if a>b:\n",
    "    print(\"the first number is greater\")\n",
    "else:\n",
    "    \n",
    "    print(\"the second number is greater\")\n"
   ]
  },
  {
   "cell_type": "code",
   "execution_count": 7,
   "id": "1c6e6c2d",
   "metadata": {},
   "outputs": [
    {
     "name": "stdout",
     "output_type": "stream",
     "text": [
      "The second person is the oldest\n"
     ]
    }
   ],
   "source": [
    "a=int(input(\"Enter the first age\"))\n",
    "b=int(input(\"Enter the second age\"))\n",
    "c=int(input(\"Enter the third age\"))\n",
    "if a>b and a>c:\n",
    "    print(\"The first person is the oldest\")\n",
    "elif b>a and b>c:\n",
    "    print(\"The second person is the oldest\")\n",
    "else:\n",
    "    print(\"The third person is the oldest\")"
   ]
  },
  {
   "cell_type": "code",
   "execution_count": 1,
   "id": "b1486ab5",
   "metadata": {},
   "outputs": [
    {
     "name": "stdout",
     "output_type": "stream",
     "text": [
      "Grade B\n"
     ]
    }
   ],
   "source": [
    "a=int(input(\"enter the number:\"))\n",
    "if a>80:\n",
    "    print(\"Grade A\")\n",
    "elif  a>60 and a<=80:\n",
    "    print(\"Grade B\")\n",
    "elif a>50 and a<=60:\n",
    "    print(\"Grade C\")\n",
    "elif a>40 and a<=50:\n",
    "    print(\"Grade D\")\n",
    "elif a>25 and a<=45:\n",
    "    print(\"Grade E\")\n",
    "else:\n",
    "    print(\"Grade F\")"
   ]
  },
  {
   "cell_type": "code",
   "execution_count": 2,
   "id": "039ac830",
   "metadata": {},
   "outputs": [
    {
     "name": "stdout",
     "output_type": "stream",
     "text": [
      "You are not allowed to sit in the exam\n"
     ]
    }
   ],
   "source": [
    "a=int(input(\"Enter the number of classes held:\"))\n",
    "b=int(input(\"Enter the number of classes attended:\"))\n",
    "if a==0:\n",
    "    print(\"No classes held\")\n",
    "elif b/a*100>=75:\n",
    "    print(\"You are allowed to sit in the exam\")\n",
    "else:\n",
    "    print(\"You are not allowed to sit in the exam\")"
   ]
  }
 ],
 "metadata": {
  "kernelspec": {
   "display_name": "Python 3",
   "language": "python",
   "name": "python3"
  },
  "language_info": {
   "codemirror_mode": {
    "name": "ipython",
    "version": 3
   },
   "file_extension": ".py",
   "mimetype": "text/x-python",
   "name": "python",
   "nbconvert_exporter": "python",
   "pygments_lexer": "ipython3",
   "version": "3.11.9"
  }
 },
 "nbformat": 4,
 "nbformat_minor": 5
}
